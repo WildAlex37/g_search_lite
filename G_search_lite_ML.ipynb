{
  "cells": [
    {
      "cell_type": "markdown",
      "metadata": {
        "colab_type": "text",
        "id": "view-in-github"
      },
      "source": [
        "<a href=\"https://colab.research.google.com/github/WildAlex37/g_search_lite/blob/main/G_search_lite_ML.ipynb\" target=\"_parent\"><img src=\"https://colab.research.google.com/assets/colab-badge.svg\" alt=\"Open In Colab\"/></a>"
      ]
    },
    {
      "cell_type": "code",
      "execution_count": 3,
      "id": "2a484aed-5fb1-447e-ae2f-f8c3a0b5adb3",
      "metadata": {
        "id": "2a484aed-5fb1-447e-ae2f-f8c3a0b5adb3",
        "tags": []
      },
      "outputs": [],
      "source": [
        "import pandas as pd\n",
        "import numpy as np\n",
        "# import plotly.express as px\n",
        "# import matplotlib\n",
        "# import matplotlib.pyplot as plt\n",
        "# import seaborn as sns\n",
        "# import datetime as dt\n",
        "# import os\n",
        "# import ipywidgets as widgets\n",
        "from IPython.display import display\n",
        "pd.options.display.max_columns = None\n",
        "pd.set_option('display.max_rows', None)\n",
        "\n",
        "from sklearn.metrics import accuracy_score\n",
        "from sklearn.metrics.pairwise import cosine_similarity\n",
        "from sklearn.preprocessing import StandardScaler\n",
        "from sklearn.model_selection import train_test_split, StratifiedKFold, cross_val_score, KFold\n",
        "from sklearn.ensemble import RandomForestClassifier\n",
        "from sklearn.svm import SVC\n",
        "from sklearn.neighbors import KNeighborsClassifier\n",
        "from sklearn.linear_model import LogisticRegression\n",
        "from sklearn.tree import DecisionTreeClassifier\n",
        "from sklearn.naive_bayes import GaussianNB"
      ]
    },
    {
      "cell_type": "code",
      "execution_count": 6,
      "id": "65cd1a04-7ae3-4f24-be08-cef12ab58bba",
      "metadata": {
        "id": "65cd1a04-7ae3-4f24-be08-cef12ab58bba",
        "tags": []
      },
      "outputs": [],
      "source": [
        "df = pd.read_parquet('df_igdb.parquet')"
      ]
    },
    {
      "cell_type": "code",
      "execution_count": null,
      "id": "0PxDEYvPQiR8",
      "metadata": {
        "colab": {
          "base_uri": "https://localhost:8080/"
        },
        "id": "0PxDEYvPQiR8",
        "outputId": "13e4029b-356d-422a-c3a6-5073b967d209"
      },
      "outputs": [],
      "source": [
        "df.columns"
      ]
    },
    {
      "cell_type": "code",
      "execution_count": null,
      "id": "5f556ff7-d376-4e08-b2c9-966508886648",
      "metadata": {
        "colab": {
          "base_uri": "https://localhost:8080/"
        },
        "id": "5f556ff7-d376-4e08-b2c9-966508886648",
        "outputId": "892fd8c2-3720-476f-86a7-96c72f81b9e5",
        "tags": []
      },
      "outputs": [],
      "source": [
        "print(df.isna().sum())"
      ]
    },
    {
      "cell_type": "code",
      "execution_count": null,
      "id": "03b6bb10-f6c2-4e9c-96b2-a148f1442e53",
      "metadata": {
        "colab": {
          "base_uri": "https://localhost:8080/",
          "height": 337
        },
        "id": "03b6bb10-f6c2-4e9c-96b2-a148f1442e53",
        "outputId": "18054919-6b17-4b70-f897-1c3c9548522e",
        "tags": []
      },
      "outputs": [],
      "source": [
        "df.head(3)"
      ]
    },
    {
      "cell_type": "code",
      "execution_count": 59,
      "id": "bd5e3874-9917-4061-abe7-e296a51a2d09",
      "metadata": {
        "id": "bd5e3874-9917-4061-abe7-e296a51a2d09",
        "tags": []
      },
      "outputs": [],
      "source": [
        "# Traiter les valeurs manquantes\n",
        "df_cleaned = df.drop(columns=['metacritic', 'esrb_rating', 'website','platforms','genres'])\n",
        "\n",
        "# Extraire uniquement les colonnes des genres et des plateformes (exclure les colonnes non numériques)\n",
        "genre_platform_columns = [col for col in df_cleaned.columns if df_cleaned[col].dtype in ['int64', 'float64']]\n",
        "X = df_cleaned[genre_platform_columns]\n",
        "# Définir les caractéristiques (X) et la cible (y)\n",
        "df_cleaned = df_cleaned.drop(['id','released','developers',''], axis=1)\n",
        "\n",
        "df_sample = df_cleaned.sample(n=5000, random_state=42)\n",
        "\n",
        "X = df_cleaned.drop(['name'], axis=1)  # Exclure les colonnes non pertinentes\n",
        "# Cible (par exemple une colonne contenant les labels)\n",
        "y = df_cleaned['name']\n"
      ]
    },
    {
      "cell_type": "code",
      "execution_count": null,
      "id": "kiXXnM5ttyuK",
      "metadata": {
        "colab": {
          "base_uri": "https://localhost:8080/",
          "height": 411
        },
        "id": "kiXXnM5ttyuK",
        "outputId": "d20e00d0-65c6-45c4-ed90-6389f397a6e3"
      },
      "outputs": [],
      "source": [
        "\n",
        "\n",
        "# Séparer les données en ensembles d'entraînement et de test\n",
        "X_train, X_test, y_train, y_test = train_test_split(X, y, test_size=0.2, random_state=42)\n",
        "\n",
        "# Définir les modèles\n",
        "models = {\n",
        "    'Random Forest': RandomForestClassifier(),\n",
        "    'SVM': SVC(),\n",
        "    'KNN': KNeighborsClassifier()\n",
        "}\n",
        "\n",
        "# Fonction pour évaluer les modèles avec StratifiedKFold\n",
        "def evaluate_models_cv(models, X, y, n_splits=2):\n",
        "    results = {}\n",
        "    skf = StratifiedKFold(n_splits=2)\n",
        "    for name, model in models.items():\n",
        "        scores = cross_val_score(model, X, y, cv=skf, scoring='accuracy')\n",
        "        results[name] = np.mean(scores)\n",
        "    return results\n",
        "\n",
        "# Évaluer les modèles\n",
        "results = evaluate_models_cv(models, X, y)\n",
        "\n",
        "# Afficher les résultats\n",
        "for model_name, accuracy in results.items():\n",
        "    print(f'{model_name} Average Accuracy: {accuracy:.4f}')"
      ]
    },
    {
      "cell_type": "code",
      "execution_count": null,
      "id": "Fu_bF-iu2cpU",
      "metadata": {
        "colab": {
          "base_uri": "https://localhost:8080/"
        },
        "id": "Fu_bF-iu2cpU",
        "outputId": "980dea2d-109f-4eab-ec51-4251762d3ece"
      },
      "outputs": [],
      "source": [
        "# 1. Saisie de l'utilisateur\n",
        "jeu_saisi = input(\"Saisissez le nom d'un jeu : \")\n",
        "\n",
        "# 2. Recherche du jeu dans le DataFrame\n",
        "if jeu_saisi in df_cleaned['name'].values:\n",
        "    jeu_selectionne = df_cleaned[df_cleaned['name'] == jeu_saisi]\n",
        "\n",
        "    # 3. Trouver le genre et les plateformes du jeu sélectionné\n",
        "    genre_columns = ['Card', 'RPG', 'Shooter', 'Strategy', 'Action', 'Sports',\n",
        "                     'Massively Multiplayer', 'Platformer', 'Puzzle', 'Educational',\n",
        "                     'Family', 'Casual', 'Indie', 'Simulation', 'Arcade', 'Fighting',\n",
        "                     'Racing', 'Board Games', 'Adventure']\n",
        "\n",
        "    platform_columns = ['PlayStation 5', 'Commodore / Amiga', 'SEGA Saturn', 'SNES', 'Dreamcast',\n",
        "                        'Nintendo Switch', 'Atari 5200', 'Xbox Series S/X', '3DO', 'Atari 7800',\n",
        "                        'SEGA CD', 'Game Boy Advance', 'Nintendo 64', 'Xbox', 'Atari Lynx',\n",
        "                        'Nintendo DS', 'Xbox 360', 'Atari Flashback', 'Neo Geo', 'Apple II',\n",
        "                        'Nintendo 3DS', 'NES', 'PS Vita', 'Game Boy', 'Linux', 'iOS', 'Genesis',\n",
        "                        'PC', 'Jaguar', 'SEGA 32X', 'Atari ST', 'Wii U', 'Web', 'PlayStation 3',\n",
        "                        'Game Boy Color', 'Game Gear', 'Classic Macintosh', 'PSP', 'PlayStation 2',\n",
        "                        'macOS', 'Atari 8-bit', 'PlayStation 4', 'Android', 'Wii', 'Atari XEGS',\n",
        "                        'PlayStation', 'SEGA Master System', 'GameCube', 'Xbox One', 'Atari 2600',\n",
        "                        'Nintendo DSi']\n",
        "\n",
        "    genre_selectionne = jeu_selectionne[genre_columns].values.flatten()\n",
        "    platform_selectionne = jeu_selectionne[platform_columns].values.flatten()\n",
        "    genre_du_jeu = genre_columns[np.where(genre_selectionne == 1)[0][0]]  # Trouver le genre du jeu sélectionné\n",
        "    platform_du_jeu = platform_columns[np.where(platform_selectionne == 1)[0][0]]  # Trouver la plateforme du jeu sélectionné\n",
        "\n",
        "    # 4. Filtrer le DataFrame pour ne conserver que les jeux du même genre et plateforme\n",
        "    df_filtered = df_cleaned[(df_cleaned[genre_du_jeu] == 1) & (df_cleaned[platform_du_jeu] == 1)]\n",
        "\n",
        "    # 5. Vérifier s'il y a assez de jeux dans le genre et plateforme sélectionnés\n",
        "    if len(df_filtered) <= 1:\n",
        "        print(f\"Pas assez de jeux dans le genre '{genre_du_jeu}' et sur la plateforme '{platform_du_jeu}' pour faire des recommandations.\")\n",
        "    else:\n",
        "        # 6. Appliquer la pondération aux colonnes des genres et des plateformes pour les jeux filtrés\n",
        "        df_filtered_weighted_genres = df_filtered[genre_columns].copy()\n",
        "        df_filtered_weighted_platforms = df_filtered[platform_columns].copy()\n",
        "\n",
        "        # 7. Concaténer les colonnes des genres et des plateformes\n",
        "        df_filtered_weighted = pd.concat([df_filtered_weighted_genres, df_filtered_weighted_platforms], axis=1)\n",
        "\n",
        "        # 8. Extraire les caractéristiques du jeu sélectionné\n",
        "        X_jeu = df_filtered_weighted.loc[df_filtered['name'] == jeu_saisi].values.flatten()\n",
        "\n",
        "        # 9. Préparer les données pour le modèle KNN\n",
        "        X_all = df_filtered_weighted.drop('name', axis=1, errors='ignore').values  # Les caractéristiques sans la colonne 'name'\n",
        "        y_all = df_filtered['name']  # Les étiquettes des jeux\n",
        "\n",
        "        # Séparer les données en ensembles d'entraînement et de test\n",
        "        X_train, X_test, y_train, y_test = train_test_split(X_all, y_all, test_size=0.2, random_state=42)\n",
        "\n",
        "        # Entraîner le modèle KNN\n",
        "        knn = KNeighborsClassifier(n_neighbors=5)  # Vous pouvez ajuster n_neighbors selon vos besoins\n",
        "        knn.fit(X_train, y_train)\n",
        "\n",
        "        # Calculer la précision du modèle\n",
        "        accuracy = knn.score(X_test, y_test)\n",
        "\n",
        "        # 10. Trouver les jeux les plus similaires\n",
        "        distances, indices = knn.kneighbors([X_jeu], n_neighbors=6)  # Inclut le jeu sélectionné lui-même\n",
        "\n",
        "        # 11. Afficher les jeux les plus similaires\n",
        "        top_n = 5  # Par exemple, recommander les 5 jeux les plus similaires\n",
        "        similar_games_indices = indices.flatten()[1:]  # Exclure le jeu lui-même\n",
        "        jeux_similaires = df_filtered.iloc[similar_games_indices]['name']\n",
        "\n",
        "        print(f\"Jeux recommandés similaires à '{jeu_saisi}' dans le genre '{genre_du_jeu}' et sur la plateforme '{platform_du_jeu}':\")\n",
        "        for jeu in jeux_similaires:\n",
        "            print(jeu)\n",
        "\n",
        "        print(f\"\\nAccuracy du modèle KNN: {accuracy:.4f}\")\n",
        "else:\n",
        "    print(f\"Le jeu '{jeu_saisi}' n'existe pas dans la base de données.\")\n"
      ]
    },
    {
      "cell_type": "code",
      "execution_count": null,
      "id": "5kFiL1PvGyXO",
      "metadata": {
        "colab": {
          "base_uri": "https://localhost:8080/"
        },
        "id": "5kFiL1PvGyXO",
        "outputId": "c56923b7-a4bd-4ec8-8c7c-90b6b825538d"
      },
      "outputs": [],
      "source": [
        "# Essai avec suggestion de complétion :\n",
        "\n",
        "import numpy as np\n",
        "import pandas as pd\n",
        "from sklearn.neighbors import KNeighborsClassifier\n",
        "from sklearn.model_selection import train_test_split\n",
        "\n",
        "# Préparer les données pour l'auto-complétion\n",
        "def prepare_autocomplete_index(df):\n",
        "    index = pd.Series(df['name'].str.lower().values, index=df['name'])\n",
        "    return index\n",
        "\n",
        "# Auto-complétion pour le nom du jeu\n",
        "def autocomplete(query, index):\n",
        "    query = query.lower()\n",
        "    matches = [name for name in index.index if name.lower().startswith(query)]\n",
        "    return matches\n",
        "\n",
        "# Saisie de l'utilisateur\n",
        "def main():\n",
        "\n",
        "    # Préparer l'index pour l'auto-complétion\n",
        "    autocomplete_index = prepare_autocomplete_index(df_cleaned)\n",
        "\n",
        "    # Saisie de l'utilisateur avec suggestions\n",
        "    jeu_saisi = input(\"Saisissez le nom d'un jeu : \")\n",
        "    suggestions = autocomplete(jeu_saisi, autocomplete_index)\n",
        "\n",
        "    if suggestions:\n",
        "        print(\"Suggestions :\")\n",
        "        for i, suggestion in enumerate(suggestions[:5], 1):  # Limiter à 5 suggestions\n",
        "            print(f\"{i}. {suggestion}\")\n",
        "\n",
        "        selected_index = int(input(\"Choisissez le numéro du jeu ou appuyez sur Enter pour le premier : \")) - 1\n",
        "        if selected_index < 0 or selected_index >= len(suggestions):\n",
        "            selected_index = 0  # Choisir le premier en cas d'entrée invalide\n",
        "\n",
        "        jeu_saisi = suggestions[selected_index]\n",
        "    else:\n",
        "        print(\"Aucune suggestion trouvée.\")\n",
        "        return\n",
        "\n",
        "    # 2. Recherche du jeu dans le DataFrame\n",
        "    if jeu_saisi in df_cleaned['name'].values:\n",
        "        jeu_selectionne = df_cleaned[df_cleaned['name'] == jeu_saisi]\n",
        "\n",
        "        # 3. Trouver le genre et les plateformes du jeu sélectionné\n",
        "        genre_columns = ['Card', 'RPG', 'Shooter', 'Strategy', 'Action', 'Sports',\n",
        "                         'Massively Multiplayer', 'Platformer', 'Puzzle', 'Educational',\n",
        "                         'Family', 'Casual', 'Indie', 'Simulation', 'Arcade', 'Fighting',\n",
        "                         'Racing', 'Board Games', 'Adventure']\n",
        "\n",
        "        platform_columns = ['PlayStation 5', 'Commodore / Amiga', 'SEGA Saturn', 'SNES', 'Dreamcast',\n",
        "                            'Nintendo Switch', 'Atari 5200', 'Xbox Series S/X', '3DO', 'Atari 7800',\n",
        "                            'SEGA CD', 'Game Boy Advance', 'Nintendo 64', 'Xbox', 'Atari Lynx',\n",
        "                            'Nintendo DS', 'Xbox 360', 'Atari Flashback', 'Neo Geo', 'Apple II',\n",
        "                            'Nintendo 3DS', 'NES', 'PS Vita', 'Game Boy', 'Linux', 'iOS', 'Genesis',\n",
        "                            'PC', 'Jaguar', 'SEGA 32X', 'Atari ST', 'Wii U', 'Web', 'PlayStation 3',\n",
        "                            'Game Boy Color', 'Game Gear', 'Classic Macintosh', 'PSP', 'PlayStation 2',\n",
        "                            'macOS', 'Atari 8-bit', 'PlayStation 4', 'Android', 'Wii', 'Atari XEGS',\n",
        "                            'PlayStation', 'SEGA Master System', 'GameCube', 'Xbox One', 'Atari 2600',\n",
        "                            'Nintendo DSi']\n",
        "\n",
        "        genre_selectionne = jeu_selectionne[genre_columns].values.flatten()\n",
        "        platform_selectionne = jeu_selectionne[platform_columns].values.flatten()\n",
        "        genre_du_jeu = genre_columns[np.where(genre_selectionne == 1)[0][0]]  # Trouver le genre du jeu sélectionné\n",
        "        platform_du_jeu = platform_columns[np.where(platform_selectionne == 1)[0][0]]  # Trouver la plateforme du jeu sélectionné\n",
        "\n",
        "        # 4. Filtrer le DataFrame pour ne conserver que les jeux du même genre et plateforme\n",
        "        df_filtered = df_cleaned[(df_cleaned[genre_du_jeu] == 1) & (df_cleaned[platform_du_jeu] == 1)]\n",
        "\n",
        "        # 5. Vérifier s'il y a assez de jeux dans le genre et plateforme sélectionnés\n",
        "        if len(df_filtered) <= 1:\n",
        "            print(f\"Pas assez de jeux dans le genre '{genre_du_jeu}' et sur la plateforme '{platform_du_jeu}' pour faire des recommandations.\")\n",
        "        else:\n",
        "            # 6. Appliquer la pondération aux colonnes des genres et des plateformes pour les jeux filtrés\n",
        "            df_filtered_weighted_genres = df_filtered[genre_columns].copy()\n",
        "            df_filtered_weighted_platforms = df_filtered[platform_columns].copy()\n",
        "\n",
        "            # 7. Concaténer les colonnes des genres et des plateformes\n",
        "            df_filtered_weighted = pd.concat([df_filtered_weighted_genres, df_filtered_weighted_platforms], axis=1)\n",
        "\n",
        "            # 8. Extraire les caractéristiques du jeu sélectionné\n",
        "            X_jeu = df_filtered_weighted.loc[df_filtered['name'] == jeu_saisi].values.flatten()\n",
        "\n",
        "            # 9. Préparer les données pour le modèle KNN\n",
        "            X_all = df_filtered_weighted.drop('name', axis=1, errors='ignore').values  # Les caractéristiques sans la colonne 'name'\n",
        "            y_all = df_filtered['name']  # Les étiquettes des jeux\n",
        "\n",
        "            # Séparer les données en ensembles d'entraînement et de test\n",
        "            X_train, X_test, y_train, y_test = train_test_split(X_all, y_all, test_size=0.2, random_state=42)\n",
        "\n",
        "            # Entraîner le modèle KNN\n",
        "            knn = KNeighborsClassifier(n_neighbors=5)  # Vous pouvez ajuster n_neighbors selon vos besoins\n",
        "            knn.fit(X_train, y_train)\n",
        "\n",
        "            # Calculer la précision du modèle\n",
        "            accuracy = knn.score(X_test, y_test)\n",
        "\n",
        "            # 10. Trouver les jeux les plus similaires\n",
        "            distances, indices = knn.kneighbors([X_jeu], n_neighbors=6)  # Inclut le jeu sélectionné lui-même\n",
        "\n",
        "            # 11. Afficher les jeux les plus similaires\n",
        "            top_n = 5  # Par exemple, recommander les 5 jeux les plus similaires\n",
        "            similar_games_indices = indices.flatten()[1:]  # Exclure le jeu lui-même\n",
        "            jeux_similaires = df_filtered.iloc[similar_games_indices]['name']\n",
        "\n",
        "            print(f\"Jeux recommandés similaires à '{jeu_saisi}' dans le genre '{genre_du_jeu}' et sur la plateforme '{platform_du_jeu}':\")\n",
        "            for jeu in jeux_similaires:\n",
        "                print(jeu)\n",
        "\n",
        "            print(f\"\\nAccuracy du modèle KNN: {accuracy:.4f}\")\n",
        "    else:\n",
        "        print(f\"Le jeu '{jeu_saisi}' n'existe pas dans la base de données.\")\n",
        "\n",
        "# Exécuter la fonction principale\n",
        "if __name__ == \"__main__\":\n",
        "    main()\n"
      ]
    },
    {
      "cell_type": "code",
      "execution_count": null,
      "id": "AdKpHm0AKI79",
      "metadata": {
        "id": "AdKpHm0AKI79"
      },
      "outputs": [],
      "source": []
    }
  ],
  "metadata": {
    "colab": {
      "include_colab_link": true,
      "provenance": []
    },
    "kernelspec": {
      "display_name": "Python 3 (ipykernel)",
      "language": "python",
      "name": "python3"
    },
    "language_info": {
      "codemirror_mode": {
        "name": "ipython",
        "version": 3
      },
      "file_extension": ".py",
      "mimetype": "text/x-python",
      "name": "python",
      "nbconvert_exporter": "python",
      "pygments_lexer": "ipython3",
      "version": "3.10.12"
    }
  },
  "nbformat": 4,
  "nbformat_minor": 5
}
